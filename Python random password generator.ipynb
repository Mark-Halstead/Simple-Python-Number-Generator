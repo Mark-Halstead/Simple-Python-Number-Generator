{
 "cells": [
  {
   "cell_type": "code",
   "execution_count": 33,
   "id": "faea9553",
   "metadata": {},
   "outputs": [],
   "source": [
    "#Importing the random module\n",
    "import random"
   ]
  },
  {
   "cell_type": "code",
   "execution_count": 36,
   "id": "eb2ca9a8",
   "metadata": {},
   "outputs": [],
   "source": [
    "def randint():\n",
    "    #Generating a number in the range 1-100 and saving as a variable\n",
    "    random_num = random.randint(1,100)\n",
    "    \n",
    "    #returning the random number\n",
    "    return random_num"
   ]
  },
  {
   "cell_type": "code",
   "execution_count": 41,
   "id": "07bc710a",
   "metadata": {
    "scrolled": true
   },
   "outputs": [
    {
     "data": {
      "text/plain": [
       "8"
      ]
     },
     "execution_count": 41,
     "metadata": {},
     "output_type": "execute_result"
    }
   ],
   "source": [
    "randint()"
   ]
  }
 ],
 "metadata": {
  "kernelspec": {
   "display_name": "Python 3 (ipykernel)",
   "language": "python",
   "name": "python3"
  },
  "language_info": {
   "codemirror_mode": {
    "name": "ipython",
    "version": 3
   },
   "file_extension": ".py",
   "mimetype": "text/x-python",
   "name": "python",
   "nbconvert_exporter": "python",
   "pygments_lexer": "ipython3",
   "version": "3.9.13"
  }
 },
 "nbformat": 4,
 "nbformat_minor": 5
}
